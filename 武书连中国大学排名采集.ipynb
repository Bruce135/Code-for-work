{
 "cells": [
  {
   "cell_type": "code",
   "execution_count": 85,
   "id": "6e90b735",
   "metadata": {},
   "outputs": [],
   "source": [
    "import requests\n",
    "from bs4 import BeautifulSoup\n",
    "import pandas as pd\n",
    "import time\n",
    "import random\n",
    "import os\n",
    "import glob\n",
    "import json\n",
    "requests.packages.urllib3.disable_warnings()"
   ]
  },
  {
   "cell_type": "code",
   "execution_count": 110,
   "id": "352c8591",
   "metadata": {},
   "outputs": [],
   "source": [
    "url = r\"https://mallapi.wurank.net/RankApi/SearchApi/GetMingBanDuliUniDataPageList/mingbanduliunidata\""
   ]
  },
  {
   "cell_type": "code",
   "execution_count": 95,
   "id": "b974695b",
   "metadata": {},
   "outputs": [],
   "source": [
    "def rty_post(url,headers,body):\n",
    "    response = requests.post(url=url, data=json.dumps(body), headers=headers, timeout=20, verify=False)\n",
    "    return response"
   ]
  },
  {
   "cell_type": "code",
   "execution_count": 111,
   "id": "77e15d53",
   "metadata": {},
   "outputs": [],
   "source": [
    "headers = {'User-Agent': 'Mozilla/5.0 (Windows NT 10.0; Win64; x64) AppleWebKit/537.36 (KHTML, like Gecko) Chrome/126.0.0.0 Safari/537.36',\n",
    "           'Accept':'application/json, text/javascript, */*; q=0.01',\n",
    "           'Accept-Language':'zh-CN,zh;q=0.9,en;q=0.8,en-US;q=0.7,zh-MY;q=0.6,en-MY;q=0.5',\n",
    "           'Connection': 'keep-alive',\n",
    "           'Origin':'https://www.wurank.net',\n",
    "           'Content-Type':'application/json'}\n",
    "\n",
    "body = { \"PageIndex\": 1, \n",
    "        \"PageSize\": 400,\n",
    "        \"filter\": \"intYear=2024\", \n",
    "        \"sort\": \"intVictorOrder=0\" }"
   ]
  },
  {
   "cell_type": "code",
   "execution_count": 112,
   "id": "851c26fc",
   "metadata": {},
   "outputs": [],
   "source": [
    "response = rty_post(url=url, headers=headers, body=body)"
   ]
  },
  {
   "cell_type": "code",
   "execution_count": 107,
   "id": "aa53682c",
   "metadata": {},
   "outputs": [],
   "source": [
    "Name = []\n",
    "Rank = []\n",
    "Province_name = []\n",
    "province_order = []\n",
    "Schtype = []\n",
    "Classorder = []\n",
    "Totalscore = []\n",
    "Schstyle = []\n",
    "\n",
    "for i in response.json()[\"data\"]:\n",
    "    Name.append(i['schchnname'])\n",
    "    Rank.append(i['victororder'])\n",
    "    Province_name.append(i['provincename'])\n",
    "    province_order.append(i['provinceorder'])\n",
    "    Schtype.append(i['schtype'])\n",
    "    Classorder.append(i['classorder'])\n",
    "    Totalscore.append(i['totalscore'])"
   ]
  },
  {
   "cell_type": "code",
   "execution_count": 108,
   "id": "9031f3d2",
   "metadata": {},
   "outputs": [],
   "source": [
    "tem = list(zip(Name,Rank,Province_name,province_order,Schtype,Classorder,Totalscore))\n",
    "df1 = pd.DataFrame(tem)\n",
    "col = [\"机构名称\",\"总排名\",\"省份名称\",\"省份排名\",\"学校类型\",\"类型排名\",\"总分\"]\n",
    "df1.set_axis(col, axis=1,inplace=True)"
   ]
  },
  {
   "cell_type": "code",
   "execution_count": 109,
   "id": "20f8da2a",
   "metadata": {},
   "outputs": [],
   "source": [
    "with pd.ExcelWriter(r'C:\\Users\\shrk-3121\\Desktop\\武书连2024中国独立学院排名.xlsx',engine='xlsxwriter',engine_kwargs={'options':{'strings_to_urls': False}}) as writer:\n",
    "        df1.to_excel(writer, index=False)"
   ]
  },
  {
   "cell_type": "code",
   "execution_count": null,
   "id": "f3b7bbed",
   "metadata": {},
   "outputs": [],
   "source": []
  }
 ],
 "metadata": {
  "kernelspec": {
   "display_name": "Python 3 (ipykernel)",
   "language": "python",
   "name": "python3"
  },
  "language_info": {
   "codemirror_mode": {
    "name": "ipython",
    "version": 3
   },
   "file_extension": ".py",
   "mimetype": "text/x-python",
   "name": "python",
   "nbconvert_exporter": "python",
   "pygments_lexer": "ipython3",
   "version": "3.9.12"
  }
 },
 "nbformat": 4,
 "nbformat_minor": 5
}
